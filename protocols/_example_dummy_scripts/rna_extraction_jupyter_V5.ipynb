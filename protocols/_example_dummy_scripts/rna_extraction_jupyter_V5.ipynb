{
 "cells": [
  {
   "cell_type": "markdown",
   "metadata": {},
   "source": [
    "## To do list\n",
    "\n",
    "* add vortexing function => added the function, but as we do not know if we really need it, I do not call it anywhere (yet) in the actual protocol. Also, it probably needs some tweaking.\n",
    "* if some dripping is observed during real tests, it might be useful to use the touch_tip commands for instance pipette.transfer(bla, bla, bla, touch_tip=True)  \n"
   ]
  },
  {
   "cell_type": "markdown",
   "metadata": {},
   "source": [
    "## Done / ready to be tested:\n",
    "* All reagents defined in one trough ✔️\n",
    "* except ethanol : deep well plate with each well designated to one sample => (the code is quick and dirty, but it should work) ✔️\n",
    "* fix reagents definition (ATM all reagents are initialised in well A1 ✔️\n",
    "* add one switch for DNAse (if we want to do it or not) ✔️\n",
    "* Add recap of setup after initiation  ✔️\n",
    "* switch for waiting times & mix reps (simulation vs IRL) ✔️\n",
    "* Add setup recaps ✔️\n",
    "* add a function to \"vortex\" and to resuspend the beads before dispensing otherwise they form clumps ✔️\n",
    "* extensive code re-organisation and documentation  ✔️"
   ]
  },
  {
   "cell_type": "markdown",
   "metadata": {},
   "source": [
    "## Resources & information\n",
    "\n",
    "\n",
    "* BOMB.BIO protocol: [BOMB total RNA extraction mammalian GITC v1.0.pdf](https://bomb.bio/wp-content/uploads/2018/09/8.2_BOMB_total_RNA_extraction_mammalian_GITC_V1.0.pdf)\n",
    "<p>\n",
    "* Opentrons OT2 API v2: [OpentronsPythonAPIV2.pdf](https://docs.opentrons.com/OpentronsPythonAPIV2.pdf)\n",
    "\n"
   ]
  },
  {
   "cell_type": "code",
   "execution_count": null,
   "metadata": {},
   "outputs": [],
   "source": [
    "metadata = {\n",
    "    'protocolName': 'RNA Extraction v0.2',\n",
    "    'author': 'Aubin Fleiss <afleiss@ic.ac.uk>, Neil MacKenzie, Eyal Kazin <eyalkazin@gmail.com>',\n",
    "    'source': 'Testing' #'Custom Protocol Request'\n",
    "}\n"
   ]
  },
  {
   "cell_type": "markdown",
   "metadata": {},
   "source": [
    "## To simulate/export protocol\n",
    "\n",
    "The next cell exports the jupyter notebook to rna_extraction_jupyter_exported.py. The exported file can be either:\n",
    "- used directly in the Opentrons app\n",
    "- simulated in the command line for instance : $ opentrons_simulate rna_extraction.py\n",
    "- simulated within this notebook. To do so run the cell after the next"
   ]
  },
  {
   "cell_type": "code",
   "execution_count": 106,
   "metadata": {
    "tags": [
     "remove_cell"
    ]
   },
   "outputs": [
    {
     "name": "stdout",
     "output_type": "stream",
     "text": [
      "[NbConvertApp] Converting notebook rna_extraction_jupyter.ipynb to python\n",
      "[NbConvertApp] Writing 18732 bytes to rna_extraction_jupyter_exported.py\n"
     ]
    }
   ],
   "source": [
    "# this cell is tagged with \"remove_cell\" so it does not end up in the exported python file\n",
    "! rm rna_extraction_jupyter_exported.py\n",
    "! jupyter nbconvert rna_extraction_jupyter.ipynb --to python --output rna_extraction_jupyter_exported.py --TagRemovePreprocessor.remove_cell_tags={\\\"remove_cell\\\"}"
   ]
  },
  {
   "cell_type": "code",
   "execution_count": 107,
   "metadata": {
    "scrolled": false,
    "tags": [
     "remove_cell"
    ]
   },
   "outputs": [
    {
     "name": "stdout",
     "output_type": "stream",
     "text": [
      "Loading json containers...\n",
      "Json container file load complete, listing database\n",
      "Found 0 containers to add. Starting migration...\n",
      "Database migration complete!\n",
      "/home/afleiss@cscdom.csc.mrc.ac.uk/.opentrons/deck_calibration.json not found. Loading defaults\n",
      "/home/afleiss@cscdom.csc.mrc.ac.uk/.opentrons/robot_settings.json not found. Loading defaults\n",
      "================================ Setup recap ================================\n",
      "\n",
      "Recap Instruments\n",
      "[('right', <opentrons.legacy_api.instruments.pipette.Pipette object at 0x7f25f1ddf910>)]\n",
      "\n",
      "Recap containers\n",
      "\t <Slot 1> <Module magdeck>\n",
      "\t <Slot 2> <Container trough>\n",
      "\t <Slot 3> <Container fresh plate>\n",
      "\t <Slot 4> <Module tempdeck>\n",
      "\t <Slot 5> <Container 96-deep-well>\n",
      "\t <Slot 6> <Container opentrons-tiprack-300ul>\n",
      "\t <Slot 7> <Container opentrons-tiprack-300ul>\n",
      "\t <Slot 8> <Container opentrons-tiprack-300ul>\n",
      "\t <Slot 9> <Container opentrons-tiprack-300ul>\n",
      "\t <Slot 10> <Container opentrons-tiprack-300ul>\n",
      "\t <Slot 11> <Container opentrons-tiprack-300ul>\n",
      "\t <Slot 12> <Container opentrons_1_trash_1100ml_fixed>\n",
      "\t <Module magdeck> <Well A1>\n",
      "\t <Module magdeck> <Container corning_96_wellplate_360ul_flat>\n",
      "\t <Module tempdeck> <Well A1>\n",
      "\n",
      "Recap reagents\n",
      "\t <Slot 2> <Container trough> <Well A1> lysis_buffer\n",
      "\t <Slot 2> <Container trough> <Well A2> isopropanol_320\n",
      "\t <Slot 2> <Container trough> <Well A3> magnetic_beads\n",
      "\t <Slot 2> <Container trough> <Well A2> isopropanol_400\n",
      "\t <Slot 2> <Container trough> <Well A5> DNaseI_reaction_mix_150\n",
      "\t <Slot 2> <Container trough> <Well A6> RNA_binding_buffer\n",
      "\t <Slot 2> <Container trough> <Well A7> nuclease_free_water\n",
      "\t <Slot 5> <Container 96-deep-well> <All wells> ethanol\n",
      "\n",
      "Recap pipette(s)\n",
      "\t left {'mount_axis': 'z', 'plunger_axis': 'b', 'model': None, 'name': None, 'id': None}\n",
      "\t right {'mount_axis': 'a', 'plunger_axis': 'c', 'model': None, 'name': None, 'id': None}\n",
      "\n",
      "Recap modules\n",
      "\tmagdeck disengaged\n",
      "\ttempdeck None\n",
      "================================= Run Start =================================\n",
      "Disengaging Magnetic Module\n",
      "Setting Temperature Module temperature to 25.0 °C (rounded off to nearest integer)\n",
      "\n",
      "##########\n",
      "# step 3 #\n",
      "##########\n",
      "Picking up tip from wells A1...H1 in \"6\"\n",
      "Transferring 240.0 from well A1 in \"2\" to well A1 in \"1\"\n",
      "\tAspirating 240.0 uL from well A1 in \"2\" at 1 speed\n",
      "\tDispensing 240.0 uL into well A1 in \"1\" at 1 speed\n",
      "Mixing 2 times with a volume of 240.0 ul\n",
      "\tAspirating 240.0 uL from well A1 in \"1\" at 1.0 speed\n",
      "\tDispensing 240.0 uL into well A1 in \"1\" at 1.0 speed\n",
      "\tAspirating 240.0 uL from well A1 in \"1\" at 1.0 speed\n",
      "\tDispensing 240.0 uL into well A1 in \"1\" at 1.0 speed\n",
      "Dropping tip into well A1 in \"12\"\n",
      "\n",
      "##########\n",
      "# step 4 #\n",
      "##########\n",
      "Picking up tip from wells A2...H2 in \"6\"\n",
      "Transferring 320.0 from well A2 in \"2\" to well A1 in \"1\"\n",
      "\tAspirating 160.0 uL from well A2 in \"2\" at 1 speed\n",
      "\tDispensing 160.0 uL into well A1 in \"1\" at 1 speed\n",
      "\tAspirating 160.0 uL from well A2 in \"2\" at 1 speed\n",
      "\tDispensing 160.0 uL into well A1 in \"1\" at 1 speed\n",
      "Mixing 2 times with a volume of 300.0 ul\n",
      "\tAspirating 300.0 uL from well A1 in \"1\" at 1.0 speed\n",
      "\tDispensing 300.0 uL into well A1 in \"1\" at 1.0 speed\n",
      "\tAspirating 300.0 uL from well A1 in \"1\" at 1.0 speed\n",
      "\tDispensing 300.0 uL into well A1 in \"1\" at 1.0 speed\n",
      "Dropping tip into well A1 in \"12\"\n",
      "\n",
      "##########\n",
      "# step 5 #\n",
      "##########\n",
      "Picking up tip from wells A3...H3 in \"6\"\n",
      "Aspirating 300.0 uL from well A3 in \"2\" at 1.0 speed\n",
      "Blowing out at well A3 in \"2\"\n",
      "Aspirating 300.0 uL from well A3 in \"2\" at 1.0 speed\n",
      "Blowing out at well A3 in \"2\"\n",
      "Aspirating 300.0 uL from well A3 in \"2\" at 1.0 speed\n",
      "Blowing out at well A3 in \"2\"\n",
      "Aspirating 300.0 uL from well A3 in \"2\" at 1.0 speed\n",
      "Blowing out at well A3 in \"2\"\n",
      "Aspirating 300.0 uL from well A3 in \"2\" at 1.0 speed\n",
      "Blowing out at well A3 in \"2\"\n",
      "Aspirating 300.0 uL from well A3 in \"2\" at 1.0 speed\n",
      "Blowing out at well A3 in \"2\"\n",
      "Aspirating 300.0 uL from well A3 in \"2\" at 1.0 speed\n",
      "Blowing out at well A3 in \"2\"\n",
      "Aspirating 300.0 uL from well A3 in \"2\" at 1.0 speed\n",
      "Blowing out at well A3 in \"2\"\n",
      "Aspirating 300.0 uL from well A3 in \"2\" at 1.0 speed\n",
      "Blowing out at well A3 in \"2\"\n",
      "Aspirating 300.0 uL from well A3 in \"2\" at 1.0 speed\n",
      "Blowing out at well A3 in \"2\"\n",
      "Aspirating 300.0 uL from well A3 in \"2\" at 1.0 speed\n",
      "Blowing out at well A3 in \"2\"\n",
      "Aspirating 300.0 uL from well A3 in \"2\" at 1.0 speed\n",
      "Blowing out at well A3 in \"2\"\n",
      "Aspirating 300.0 uL from well A3 in \"2\" at 1.0 speed\n",
      "Blowing out at well A3 in \"2\"\n",
      "Aspirating 300.0 uL from well A3 in \"2\" at 1.0 speed\n",
      "Blowing out at well A3 in \"2\"\n",
      "Aspirating 300.0 uL from well A3 in \"2\" at 1.0 speed\n",
      "Blowing out at well A3 in \"2\"\n",
      "Aspirating 300.0 uL from well A3 in \"2\" at 1.0 speed\n",
      "Blowing out at well A3 in \"2\"\n",
      "Aspirating 300.0 uL from well A3 in \"2\" at 1.0 speed\n",
      "Blowing out at well A3 in \"2\"\n",
      "Aspirating 300.0 uL from well A3 in \"2\" at 1.0 speed\n",
      "Blowing out at well A3 in \"2\"\n",
      "Transferring 40.0 from well A3 in \"2\" to well A1 in \"1\"\n",
      "\tAspirating 40.0 uL from well A3 in \"2\" at 1 speed\n",
      "\tDispensing 40.0 uL into well A1 in \"1\" at 1 speed\n",
      "Mixing 2 times with a volume of 40.0 ul\n",
      "\tAspirating 40.0 uL from well A1 in \"1\" at 1.0 speed\n",
      "\tDispensing 40.0 uL into well A1 in \"1\" at 1.0 speed\n",
      "\tAspirating 40.0 uL from well A1 in \"1\" at 1.0 speed\n",
      "\tDispensing 40.0 uL into well A1 in \"1\" at 1.0 speed\n",
      "Dropping tip into well A1 in \"12\"\n",
      "\n",
      "##########\n",
      "# step 6 #\n",
      "##########\n",
      "Activating magdeck for 5 minutes\n",
      "Engaging Magnetic Module\n",
      "Delaying for 0 minutes and 5 seconds\n",
      "\tPausing robot operation\n",
      "\tResuming robot operation\n",
      "Picking up tip from wells A4...H4 in \"6\"\n",
      "Transferring 900.0 from well A1 in \"1\" to well A1 in \"12\"\n",
      "\tAspirating 300.0 uL from well A1 in \"1\" at 1 speed\n",
      "\tDispensing 300.0 uL into well A1 in \"12\" at 1 speed\n",
      "\tAspirating 300.0 uL from well A1 in \"1\" at 1 speed\n",
      "\tDispensing 300.0 uL into well A1 in \"12\" at 1 speed\n",
      "\tAspirating 300.0 uL from well A1 in \"1\" at 1 speed\n",
      "\tDispensing 300.0 uL into well A1 in \"12\" at 1 speed\n",
      "Dropping tip into well A1 in \"12\"\n",
      "\n",
      "##########\n",
      "# step 7 #\n",
      "##########\n",
      "Disengaging Magnetic Module\n",
      "Picking up tip from wells A5...H5 in \"6\"\n",
      "Transferring 400.0 from well A2 in \"2\" to well A1 in \"1\"\n",
      "\tAspirating 200.0 uL from well A2 in \"2\" at 1 speed\n",
      "\tDispensing 200.0 uL into well A1 in \"1\" at 1 speed\n",
      "\tAspirating 200.0 uL from well A2 in \"2\" at 1 speed\n",
      "\tDispensing 200.0 uL into well A1 in \"1\" at 1 speed\n",
      "Mixing 2 times with a volume of 300.0 ul\n",
      "\tAspirating 300.0 uL from well A1 in \"1\" at 1.0 speed\n",
      "\tDispensing 300.0 uL into well A1 in \"1\" at 1.0 speed\n",
      "\tAspirating 300.0 uL from well A1 in \"1\" at 1.0 speed\n",
      "\tDispensing 300.0 uL into well A1 in \"1\" at 1.0 speed\n",
      "Dropping tip into well A1 in \"12\"\n",
      "\n",
      "##########\n",
      "# step 8 #\n",
      "##########\n",
      "Activating magdeck for 5 minutes\n",
      "Engaging Magnetic Module\n",
      "Delaying for 0 minutes and 5 seconds\n",
      "\tPausing robot operation\n",
      "\tResuming robot operation\n",
      "Picking up tip from wells A6...H6 in \"6\"\n",
      "Transferring 900.0 from well A1 in \"1\" to well A1 in \"12\"\n",
      "\tAspirating 300.0 uL from well A1 in \"1\" at 1 speed\n",
      "\tDispensing 300.0 uL into well A1 in \"12\" at 1 speed\n",
      "\tAspirating 300.0 uL from well A1 in \"1\" at 1 speed\n",
      "\tDispensing 300.0 uL into well A1 in \"12\" at 1 speed\n",
      "\tAspirating 300.0 uL from well A1 in \"1\" at 1 speed\n",
      "\tDispensing 300.0 uL into well A1 in \"12\" at 1 speed\n",
      "Dropping tip into well A1 in \"12\"\n",
      "\n",
      "################\n",
      "# step 9-10-11 #\n",
      "################\n",
      "Disengaging Magnetic Module\n",
      "Picking up tip from wells A7...H7 in \"6\"\n",
      "Transferring 400.0 from well A1 in \"5\" to well A1 in \"1\"\n",
      "\tAspirating 200.0 uL from well A1 in \"5\" at 1 speed\n",
      "\tDispensing 200.0 uL into well A1 in \"1\" at 1 speed\n",
      "\tAspirating 200.0 uL from well A1 in \"5\" at 1 speed\n",
      "\tDispensing 200.0 uL into well A1 in \"1\" at 1 speed\n",
      "Mixing 2 times with a volume of 300.0 ul\n",
      "\tAspirating 300.0 uL from well A1 in \"1\" at 1.0 speed\n",
      "\tDispensing 300.0 uL into well A1 in \"1\" at 1.0 speed\n",
      "\tAspirating 300.0 uL from well A1 in \"1\" at 1.0 speed\n",
      "\tDispensing 300.0 uL into well A1 in \"1\" at 1.0 speed\n",
      "Dropping tip into well A1 in \"12\"\n",
      "Activating magdeck for 5 minutes\n",
      "Engaging Magnetic Module\n",
      "Delaying for 0 minutes and 5 seconds\n",
      "\tPausing robot operation\n",
      "\tResuming robot operation\n",
      "Picking up tip from wells A8...H8 in \"6\"\n",
      "Transferring 900.0 from well A1 in \"1\" to well A1 in \"12\"\n",
      "\tAspirating 300.0 uL from well A1 in \"1\" at 1 speed\n",
      "\tDispensing 300.0 uL into well A1 in \"12\" at 1 speed\n",
      "\tAspirating 300.0 uL from well A1 in \"1\" at 1 speed\n",
      "\tDispensing 300.0 uL into well A1 in \"12\" at 1 speed\n",
      "\tAspirating 300.0 uL from well A1 in \"1\" at 1 speed\n",
      "\tDispensing 300.0 uL into well A1 in \"12\" at 1 speed\n",
      "Dropping tip into well A1 in \"12\"\n",
      "Disengaging Magnetic Module\n",
      "Picking up tip from wells A9...H9 in \"6\"\n",
      "Transferring 400.0 from well A1 in \"5\" to well A1 in \"1\"\n",
      "\tAspirating 200.0 uL from well A1 in \"5\" at 1 speed\n",
      "\tDispensing 200.0 uL into well A1 in \"1\" at 1 speed\n",
      "\tAspirating 200.0 uL from well A1 in \"5\" at 1 speed\n",
      "\tDispensing 200.0 uL into well A1 in \"1\" at 1 speed\n",
      "Mixing 2 times with a volume of 300.0 ul\n",
      "\tAspirating 300.0 uL from well A1 in \"1\" at 1.0 speed\n",
      "\tDispensing 300.0 uL into well A1 in \"1\" at 1.0 speed\n",
      "\tAspirating 300.0 uL from well A1 in \"1\" at 1.0 speed\n",
      "\tDispensing 300.0 uL into well A1 in \"1\" at 1.0 speed\n",
      "Dropping tip into well A1 in \"12\"\n",
      "Activating magdeck for 5 minutes\n",
      "Engaging Magnetic Module\n",
      "Delaying for 0 minutes and 5 seconds\n",
      "\tPausing robot operation\n",
      "\tResuming robot operation\n",
      "Picking up tip from wells A10...H10 in \"6\"\n",
      "Transferring 900.0 from well A1 in \"1\" to well A1 in \"12\"\n",
      "\tAspirating 300.0 uL from well A1 in \"1\" at 1 speed\n",
      "\tDispensing 300.0 uL into well A1 in \"12\" at 1 speed\n",
      "\tAspirating 300.0 uL from well A1 in \"1\" at 1 speed\n",
      "\tDispensing 300.0 uL into well A1 in \"12\" at 1 speed\n",
      "\tAspirating 300.0 uL from well A1 in \"1\" at 1 speed\n",
      "\tDispensing 300.0 uL into well A1 in \"12\" at 1 speed\n",
      "Dropping tip into well A1 in \"12\"\n",
      "Disengaging Magnetic Module\n",
      "Picking up tip from wells A11...H11 in \"6\"\n",
      "Transferring 400.0 from well A1 in \"5\" to well A1 in \"1\"\n",
      "\tAspirating 200.0 uL from well A1 in \"5\" at 1 speed\n",
      "\tDispensing 200.0 uL into well A1 in \"1\" at 1 speed\n",
      "\tAspirating 200.0 uL from well A1 in \"5\" at 1 speed\n",
      "\tDispensing 200.0 uL into well A1 in \"1\" at 1 speed\n",
      "Mixing 2 times with a volume of 300.0 ul\n",
      "\tAspirating 300.0 uL from well A1 in \"1\" at 1.0 speed\n",
      "\tDispensing 300.0 uL into well A1 in \"1\" at 1.0 speed\n",
      "\tAspirating 300.0 uL from well A1 in \"1\" at 1.0 speed\n",
      "\tDispensing 300.0 uL into well A1 in \"1\" at 1.0 speed\n",
      "Dropping tip into well A1 in \"12\"\n",
      "Activating magdeck for 5 minutes\n",
      "Engaging Magnetic Module\n",
      "Delaying for 0 minutes and 5 seconds\n",
      "\tPausing robot operation\n",
      "\tResuming robot operation\n",
      "Picking up tip from wells A12...H12 in \"6\"\n",
      "Transferring 900.0 from well A1 in \"1\" to well A1 in \"12\"\n",
      "\tAspirating 300.0 uL from well A1 in \"1\" at 1 speed\n",
      "\tDispensing 300.0 uL into well A1 in \"12\" at 1 speed\n",
      "\tAspirating 300.0 uL from well A1 in \"1\" at 1 speed\n",
      "\tDispensing 300.0 uL into well A1 in \"12\" at 1 speed\n",
      "\tAspirating 300.0 uL from well A1 in \"1\" at 1 speed\n",
      "\tDispensing 300.0 uL into well A1 in \"12\" at 1 speed\n",
      "Dropping tip into well A1 in \"12\"\n",
      "Disengaging Magnetic Module\n",
      "\n",
      "###########\n",
      "# step 12 #\n",
      "###########\n",
      "Please place plate on tempdeck\n",
      "Pausing robot operation\n",
      "Delaying for 0 minutes and 5 seconds\n",
      "\tPausing robot operation\n",
      "\tResuming robot operation\n",
      "Please place plate back on magdeck\n",
      "Pausing robot operation\n",
      "\n",
      "###########\n",
      "# step 13 #\n",
      "###########\n",
      "Picking up tip from wells A1...H1 in \"7\"\n",
      "Transferring 150.0 from well A5 in \"2\" to well A1 in \"1\"\n",
      "\tAspirating 150.0 uL from well A5 in \"2\" at 1 speed\n",
      "\tDispensing 150.0 uL into well A1 in \"1\" at 1 speed\n",
      "Mixing 2 times with a volume of 300.0 ul\n",
      "\tAspirating 300.0 uL from well A1 in \"1\" at 1.0 speed\n",
      "\tDispensing 300.0 uL into well A1 in \"1\" at 1.0 speed\n",
      "\tAspirating 300.0 uL from well A1 in \"1\" at 1.0 speed\n",
      "\tDispensing 300.0 uL into well A1 in \"1\" at 1.0 speed\n",
      "Dropping tip into well A1 in \"12\"\n",
      "\n",
      "###########\n",
      "# step 14 #\n",
      "###########\n",
      "Picking up tip from wells A2...H2 in \"7\"\n",
      "Transferring 600.0 from well A6 in \"2\" to well A1 in \"1\"\n",
      "\tAspirating 300.0 uL from well A6 in \"2\" at 1 speed\n",
      "\tDispensing 300.0 uL into well A1 in \"1\" at 1 speed\n",
      "\tAspirating 300.0 uL from well A6 in \"2\" at 1 speed\n",
      "\tDispensing 300.0 uL into well A1 in \"1\" at 1 speed\n",
      "Mixing 2 times with a volume of 300.0 ul\n",
      "\tAspirating 300.0 uL from well A1 in \"1\" at 1.0 speed\n",
      "\tDispensing 300.0 uL into well A1 in \"1\" at 1.0 speed\n",
      "\tAspirating 300.0 uL from well A1 in \"1\" at 1.0 speed\n",
      "\tDispensing 300.0 uL into well A1 in \"1\" at 1.0 speed\n",
      "Dropping tip into well A1 in \"12\"\n",
      "\n",
      "###########\n",
      "# step 15 #\n",
      "###########\n",
      "Activating magdeck for 5 minutes\n",
      "Engaging Magnetic Module\n",
      "Delaying for 0 minutes and 5 seconds\n",
      "\tPausing robot operation\n",
      "\tResuming robot operation\n",
      "Picking up tip from wells A3...H3 in \"7\"\n",
      "Transferring 900.0 from well A1 in \"1\" to well A1 in \"12\"\n",
      "\tAspirating 300.0 uL from well A1 in \"1\" at 1 speed\n",
      "\tDispensing 300.0 uL into well A1 in \"12\" at 1 speed\n",
      "\tAspirating 300.0 uL from well A1 in \"1\" at 1 speed\n",
      "\tDispensing 300.0 uL into well A1 in \"12\" at 1 speed\n",
      "\tAspirating 300.0 uL from well A1 in \"1\" at 1 speed\n",
      "\tDispensing 300.0 uL into well A1 in \"12\" at 1 speed\n",
      "Dropping tip into well A1 in \"12\"\n",
      "\n",
      "#################\n",
      "# step 16-17-18 #\n",
      "#################\n",
      "Disengaging Magnetic Module\n",
      "Picking up tip from wells A4...H4 in \"7\"\n",
      "Transferring 400.0 from well A1 in \"5\" to well A1 in \"1\"\n",
      "\tAspirating 200.0 uL from well A1 in \"5\" at 1 speed\n",
      "\tDispensing 200.0 uL into well A1 in \"1\" at 1 speed\n",
      "\tAspirating 200.0 uL from well A1 in \"5\" at 1 speed\n",
      "\tDispensing 200.0 uL into well A1 in \"1\" at 1 speed\n",
      "Mixing 2 times with a volume of 300.0 ul\n",
      "\tAspirating 300.0 uL from well A1 in \"1\" at 1.0 speed\n",
      "\tDispensing 300.0 uL into well A1 in \"1\" at 1.0 speed\n",
      "\tAspirating 300.0 uL from well A1 in \"1\" at 1.0 speed\n",
      "\tDispensing 300.0 uL into well A1 in \"1\" at 1.0 speed\n",
      "Dropping tip into well A1 in \"12\"\n",
      "Activating magdeck for 5 minutes\n",
      "Engaging Magnetic Module\n",
      "Delaying for 0 minutes and 5 seconds\n",
      "\tPausing robot operation\n",
      "\tResuming robot operation\n",
      "Picking up tip from wells A5...H5 in \"7\"\n",
      "Transferring 900.0 from well A1 in \"1\" to well A1 in \"12\"\n",
      "\tAspirating 300.0 uL from well A1 in \"1\" at 1 speed\n",
      "\tDispensing 300.0 uL into well A1 in \"12\" at 1 speed\n",
      "\tAspirating 300.0 uL from well A1 in \"1\" at 1 speed\n",
      "\tDispensing 300.0 uL into well A1 in \"12\" at 1 speed\n",
      "\tAspirating 300.0 uL from well A1 in \"1\" at 1 speed\n",
      "\tDispensing 300.0 uL into well A1 in \"12\" at 1 speed\n",
      "Dropping tip into well A1 in \"12\"\n",
      "Disengaging Magnetic Module\n",
      "Picking up tip from wells A6...H6 in \"7\"\n",
      "Transferring 400.0 from well A1 in \"5\" to well A1 in \"1\"\n",
      "\tAspirating 200.0 uL from well A1 in \"5\" at 1 speed\n",
      "\tDispensing 200.0 uL into well A1 in \"1\" at 1 speed\n",
      "\tAspirating 200.0 uL from well A1 in \"5\" at 1 speed\n",
      "\tDispensing 200.0 uL into well A1 in \"1\" at 1 speed\n",
      "Mixing 2 times with a volume of 300.0 ul\n",
      "\tAspirating 300.0 uL from well A1 in \"1\" at 1.0 speed\n",
      "\tDispensing 300.0 uL into well A1 in \"1\" at 1.0 speed\n",
      "\tAspirating 300.0 uL from well A1 in \"1\" at 1.0 speed\n",
      "\tDispensing 300.0 uL into well A1 in \"1\" at 1.0 speed\n",
      "Dropping tip into well A1 in \"12\"\n",
      "Activating magdeck for 5 minutes\n",
      "Engaging Magnetic Module\n",
      "Delaying for 0 minutes and 5 seconds\n",
      "\tPausing robot operation\n",
      "\tResuming robot operation\n",
      "Picking up tip from wells A7...H7 in \"7\"\n",
      "Transferring 900.0 from well A1 in \"1\" to well A1 in \"12\"\n",
      "\tAspirating 300.0 uL from well A1 in \"1\" at 1 speed\n",
      "\tDispensing 300.0 uL into well A1 in \"12\" at 1 speed\n",
      "\tAspirating 300.0 uL from well A1 in \"1\" at 1 speed\n",
      "\tDispensing 300.0 uL into well A1 in \"12\" at 1 speed\n",
      "\tAspirating 300.0 uL from well A1 in \"1\" at 1 speed\n",
      "\tDispensing 300.0 uL into well A1 in \"12\" at 1 speed\n",
      "Dropping tip into well A1 in \"12\"\n",
      "Disengaging Magnetic Module\n",
      "Picking up tip from wells A8...H8 in \"7\"\n",
      "Transferring 400.0 from well A1 in \"5\" to well A1 in \"1\"\n",
      "\tAspirating 200.0 uL from well A1 in \"5\" at 1 speed\n",
      "\tDispensing 200.0 uL into well A1 in \"1\" at 1 speed\n",
      "\tAspirating 200.0 uL from well A1 in \"5\" at 1 speed\n",
      "\tDispensing 200.0 uL into well A1 in \"1\" at 1 speed\n",
      "Mixing 2 times with a volume of 300.0 ul\n",
      "\tAspirating 300.0 uL from well A1 in \"1\" at 1.0 speed\n",
      "\tDispensing 300.0 uL into well A1 in \"1\" at 1.0 speed\n",
      "\tAspirating 300.0 uL from well A1 in \"1\" at 1.0 speed\n",
      "\tDispensing 300.0 uL into well A1 in \"1\" at 1.0 speed\n",
      "Dropping tip into well A1 in \"12\"\n",
      "Activating magdeck for 5 minutes\n",
      "Engaging Magnetic Module\n",
      "Delaying for 0 minutes and 5 seconds\n",
      "\tPausing robot operation\n",
      "\tResuming robot operation\n",
      "Picking up tip from wells A9...H9 in \"7\"\n",
      "Transferring 900.0 from well A1 in \"1\" to well A1 in \"12\"\n",
      "\tAspirating 300.0 uL from well A1 in \"1\" at 1 speed\n",
      "\tDispensing 300.0 uL into well A1 in \"12\" at 1 speed\n",
      "\tAspirating 300.0 uL from well A1 in \"1\" at 1 speed\n",
      "\tDispensing 300.0 uL into well A1 in \"12\" at 1 speed\n",
      "\tAspirating 300.0 uL from well A1 in \"1\" at 1 speed\n",
      "\tDispensing 300.0 uL into well A1 in \"12\" at 1 speed\n",
      "Dropping tip into well A1 in \"12\"\n",
      "\n",
      "###########\n",
      "# step 19 #\n",
      "###########\n",
      "Please place plate on tempdeck\n",
      "Pausing robot operation\n",
      "Setting Temperature Module temperature to 50.0 °C (rounded off to nearest integer)\n",
      "Delaying for 0 minutes and 5 seconds\n",
      "\tPausing robot operation\n",
      "\tResuming robot operation\n",
      "Setting Temperature Module temperature to 25.0 °C (rounded off to nearest integer)\n",
      "Please place plate back on magdeck\n",
      "Pausing robot operation\n",
      "\n",
      "###########\n",
      "# step 20 #\n",
      "###########\n",
      "Picking up tip from wells A10...H10 in \"7\"\n",
      "Transferring 40.0 from well A7 in \"2\" to well A1 in \"1\"\n",
      "\tAspirating 40.0 uL from well A7 in \"2\" at 1 speed\n",
      "\tDispensing 40.0 uL into well A1 in \"1\" at 1 speed\n",
      "Mixing 2 times with a volume of 300.0 ul\n",
      "\tAspirating 300.0 uL from well A1 in \"1\" at 1.0 speed\n",
      "\tDispensing 300.0 uL into well A1 in \"1\" at 1.0 speed\n",
      "\tAspirating 300.0 uL from well A1 in \"1\" at 1.0 speed\n",
      "\tDispensing 300.0 uL into well A1 in \"1\" at 1.0 speed\n",
      "Dropping tip into well A1 in \"12\"\n",
      "Done, at last!\n"
     ]
    }
   ],
   "source": [
    "# this cell is tagged with \"remove_cell\" so it does not end up in the exported python file\n",
    "! opentrons_simulate rna_extraction_jupyter_exported.py"
   ]
  },
  {
   "cell_type": "markdown",
   "metadata": {},
   "source": [
    "## User parameters: \n",
    "- <b>number_of_sample_columns</b> (integer) defines the number of columns in the test plate that contain samples. This parameter is probably the only one the user will provide once the protocol is established\n",
    "<p>\n",
    "- <b>DNAse_incubation</b> (bool) switch on (True) or off (False) DNAse treatment\n",
    "<p>\n",
    "- <b>test_mode</b> (bool) in test mode (True) incubation times are reduced to 2 sec, mixing steps are reduced to 2 reps. In nornal mode (False), all incubation and mixing steps are restored to their normal durations"
   ]
  },
  {
   "cell_type": "code",
   "execution_count": null,
   "metadata": {},
   "outputs": [],
   "source": [
    "number_of_sample_columns = 1\n",
    "\n",
    "DNAse_incubation = True\n",
    "\n",
    "test_mode = True\n"
   ]
  },
  {
   "cell_type": "markdown",
   "metadata": {},
   "source": [
    "## Installing, updating, loading modules\n"
   ]
  },
  {
   "cell_type": "code",
   "execution_count": null,
   "metadata": {},
   "outputs": [],
   "source": [
    "# intalling opentrons module (needed only once)\n",
    "\n",
    "#import sys\n",
    "#!{sys.executable} -m pip install opentrons "
   ]
  },
  {
   "cell_type": "code",
   "execution_count": null,
   "metadata": {},
   "outputs": [],
   "source": [
    "# updating opentrons module (do it once every few weeks or after an API update)\n",
    "\n",
    "#import sys\n",
    "#!{sys.executable} -m pip install --upgrade opentrons"
   ]
  },
  {
   "cell_type": "code",
   "execution_count": null,
   "metadata": {},
   "outputs": [],
   "source": [
    "# import standard modules\n",
    "from collections import OrderedDict\n",
    "\n",
    "# import Opentrons modules\n",
    "from opentrons import labware, instruments, modules, robot\n"
   ]
  },
  {
   "cell_type": "markdown",
   "metadata": {},
   "source": [
    "## Connect to robot"
   ]
  },
  {
   "cell_type": "code",
   "execution_count": null,
   "metadata": {
    "tags": [
     "remove_cell"
    ]
   },
   "outputs": [],
   "source": [
    "# run this cell to connect to the robot, if available\n",
    "# this cell is tagged with \"remove_cell\" so it does not end up in the exported python file\n",
    "\n",
    "robot.connect()\n",
    "#robot.disconnect()"
   ]
  },
  {
   "cell_type": "code",
   "execution_count": null,
   "metadata": {},
   "outputs": [],
   "source": [
    "# make connected robot blink lights\n",
    "\"\"\"\n",
    "# some functions to play around with lights\n",
    "robot.get_rail_lights_on()\n",
    "robot.turn_off_rail_lights()\n",
    "robot.turn_on_rail_lights()\n",
    "\n",
    "robot.turn_off_button_light()\n",
    "robot.turn_on_button_light()\n",
    "\n",
    "robot.get_lights()\n",
    "robot.set_lights(button=None, rails=None)\n",
    "\"\"\"\n",
    "robot.identify(5) #blink lights for 5 seconds"
   ]
  },
  {
   "cell_type": "markdown",
   "metadata": {},
   "source": [
    "## Instanciate and initialise modules"
   ]
  },
  {
   "cell_type": "code",
   "execution_count": null,
   "metadata": {
    "tags": [
     "remove_cell"
    ]
   },
   "outputs": [],
   "source": [
    "# run this cell to detect modules, if available\n",
    "# this cell is tagged with \"remove_cell\" so it does not end up in the exported python file\n",
    "\n",
    "print(robot.discover_modules())"
   ]
  },
  {
   "cell_type": "code",
   "execution_count": null,
   "metadata": {},
   "outputs": [],
   "source": [
    "# magnetic module\n",
    "magdeck = modules.load('magdeck', '1')\n",
    "magdeck.disengage()\n",
    "\n",
    "# temperature module\n",
    "tempdeck = modules.load('tempdeck', '4')\n",
    "tempdeck.set_temperature(25)\n"
   ]
  },
  {
   "cell_type": "markdown",
   "metadata": {},
   "source": [
    "\n",
    "## Instanciate labware\n"
   ]
  },
  {
   "cell_type": "code",
   "execution_count": null,
   "metadata": {},
   "outputs": [],
   "source": [
    "\n",
    "# sample plate\n",
    "sample_plate = labware.load(\"corning_96_wellplate_360ul_flat\", '1', share=True)\n",
    "\n",
    "# reagents plate\n",
    "trough = labware.load('trough-12row', '2', 'trough')\n",
    "\n",
    "# ethanol plate\n",
    "ethanol_plate = labware.load('96-deep-well', '5', share=True)\n",
    "\n",
    "# fresh plate\n",
    "fresh_plate = labware.load(\"corning_96_wellplate_360ul_flat\", '3', 'fresh plate')\n",
    "\n",
    "# instanciate tip rack in remaining slots\n",
    "tips = [labware.load('opentrons-tiprack-300ul', str(slot)) for slot in range(6, 12)] \n"
   ]
  },
  {
   "cell_type": "markdown",
   "metadata": {},
   "source": [
    "## Instanciate pipette and set flow rate"
   ]
  },
  {
   "cell_type": "code",
   "execution_count": null,
   "metadata": {},
   "outputs": [],
   "source": [
    "\n",
    "# load pipette\n",
    "m300 = instruments.P300_Multi(mount='right', tip_racks=tips)\n",
    "\n",
    "m300.set_flow_rate(aspirate=150, dispense=300)\n"
   ]
  },
  {
   "cell_type": "markdown",
   "metadata": {},
   "source": [
    "\n",
    "## Instanciate reagents\n"
   ]
  },
  {
   "cell_type": "code",
   "execution_count": null,
   "metadata": {},
   "outputs": [],
   "source": [
    "#lysis_buffer = trough.wells('A1')\n",
    "# isopropanol = trough.wells('A2')\n",
    "# magnetic_bead = trough.wells('A3')   # e.g, silica-coated magnetic beads (BOMB protocol #2.1, 1:10 diluted from stock)\n",
    "# ethanol_80percent = trough.wells('A4')\n",
    "# dnaseI_reaction_mix = trough.wells('A5')  # enzyme that removes DNA\n",
    "# rna_binding_buffer = trough.wells('A6')\n",
    "# nuclease_free_water = trough.wells('A7')\n",
    "# liquid_waste = trough.wells('A12')  #  elution waste\n",
    "\n",
    "NEW_TIP_MODE = 'never'\n",
    "\n",
    "if test_mode:\n",
    "    MIX_REPETITIONS = 2\n",
    "else:\n",
    "    MIX_REPETITIONS = 15\n",
    "\n",
    "reagents = OrderedDict()\n",
    "# Add 240 μl of lysis buffer, seal and shake at RT at 1400 rpm for 5 min\n",
    "reagents['lysis_buffer'] = {'well': 'A1', \n",
    "                            'transfer_volume': 240,\n",
    "                            'mix_volume': 240, \n",
    "                            'mix_repetitions': MIX_REPETITIONS,\n",
    "                            'new_tip': NEW_TIP_MODE}\n",
    "\n",
    "# Add 320 μl of isopropanol, seal and shake at RT at 1400 rpm for 5 min\n",
    "reagents['isopropanol_320'] = {'well': 'A2', \n",
    "                               'transfer_volume': 320,\n",
    "                               'mix_volume': 300, \n",
    "                               'mix_repetitions': MIX_REPETITIONS,\n",
    "                               'new_tip': NEW_TIP_MODE}\n",
    "\n",
    "# Add 40 μl of silica-coated magnetic beads (BOMB protocol #2.1, 1:10 diluted from stock), seal and shake at RT at 1400 rpm for 5 min\n",
    "reagents['magnetic_beads'] = {'well': 'A3', \n",
    "                              'transfer_volume': 40, \n",
    "                              'mix_volume': 40, \n",
    "                              'mix_repetitions': MIX_REPETITIONS,\n",
    "                              'new_tip': NEW_TIP_MODE}\n",
    "\n",
    "# Remove the plate from the magnetic stand and add 400 μl isopropanol. Shake at RT at 1400 rpm for 2 min\n",
    "reagents['isopropanol_400'] = {'well': 'A2', \n",
    "                               'transfer_volume': 400, \n",
    "                               'mix_volume': 300, \n",
    "                               'mix_repetitions': MIX_REPETITIONS,\n",
    "                               'new_tip': NEW_TIP_MODE}\n",
    "\n",
    "\n",
    "# Add 150 µl of DNase I reaction mix and mix at 1300 rpm for 5 min at RT, centrifuge shortly and shake at 350 rpm for 15-60 min at 37 °C\n",
    "reagents['DNaseI_reaction_mix_150'] = {'well': 'A5', \n",
    "                               'transfer_volume': 150, \n",
    "                               'mix_volume': 300, \n",
    "                               'mix_repetitions': MIX_REPETITIONS,\n",
    "                               'new_tip': NEW_TIP_MODE}\n",
    "\n",
    "#Add 600 µl RNA binding buffer to the digest and mix at 1000 rpm for 10 min\n",
    "reagents['RNA_binding_buffer'] = {'well': 'A6', \n",
    "                               'transfer_volume': 600, \n",
    "                               'mix_volume': 300, \n",
    "                               'mix_repetitions': MIX_REPETITIONS,\n",
    "                               'new_tip': NEW_TIP_MODE}\n",
    "\n",
    "\n",
    "#Add 40 µl of nuclease-free water to elute RNA, mix at 1300 rpm for 5 min\n",
    "reagents['nuclease_free_water'] = {'well': 'A7', \n",
    "                               'transfer_volume': 40, \n",
    "                               'mix_volume': 300, \n",
    "                               'mix_repetitions': MIX_REPETITIONS,\n",
    "                               'new_tip': NEW_TIP_MODE}\n"
   ]
  },
  {
   "cell_type": "code",
   "execution_count": null,
   "metadata": {},
   "outputs": [],
   "source": [
    "# reagents setup\n",
    "\n",
    "for reagent_name in reagents:\n",
    "    reagents[reagent_name]['setup'] = trough.wells(reagents[reagent_name][\"well\"])\n",
    "\n"
   ]
  },
  {
   "cell_type": "markdown",
   "metadata": {},
   "source": [
    "## Define custom functions"
   ]
  },
  {
   "cell_type": "code",
   "execution_count": 90,
   "metadata": {},
   "outputs": [],
   "source": [
    "def mix_wells(mix_locations, mix_reps):\n",
    "    \"\"\"mixes a well thoroughly by aspirating/rejecting liquid at different heights in a well\"\"\"\n",
    "\n",
    "    m300.set_flow_rate(aspirate=300, dispense=550)\n",
    "    \n",
    "    for well in mix_locations:\n",
    "        \n",
    "        if not m300.tip_attached:\n",
    "            m300.pick_up_tip()\n",
    "\n",
    "        m300.move_to(well.top(20), strategy='arc') \n",
    "        \n",
    "        for position in range(20,2,-2):\n",
    "            m300.aspirate(volume=300, location=well.bottom(position), rate=1.0)\n",
    "            m300.blow_out(well.bottom(position))\n",
    "\n",
    "            m300.aspirate(volume=300, location=well.bottom(position), rate=1.0)\n",
    "            m300.blow_out(well.top(-2))\n",
    "\n",
    "        m300.move_to(well.top(20), strategy='arc')\n",
    "    m300.set_flow_rate(aspirate=150, dispense=300)\n",
    "\n",
    "def resuspend(well_to_mix):\n",
    "    \"\"\"resuspends the contents of a well by pipetting liquid up and down while gradually descending into the well\"\"\"\n",
    "\n",
    "    m300.set_flow_rate(aspirate=300, dispense=550)\n",
    "        \n",
    "    if not m300.tip_attached:\n",
    "        m300.pick_up_tip()\n",
    "\n",
    "    m300.move_to(well_to_mix.top(20), strategy='arc') # fist move to the well\n",
    "        \n",
    "        # then aspirate and reject\n",
    "\n",
    "    for position in range(20,2,-2):\n",
    "        m300.aspirate(volume=300, location=well_to_mix.bottom(position), rate=1.0)\n",
    "        m300.blow_out(well_to_mix.bottom(position))\n",
    "\n",
    "        m300.aspirate(volume=300, location=well_to_mix.bottom(position), rate=1.0)\n",
    "        m300.blow_out(well_to_mix.top(-2))\n",
    "\n",
    "    m300.move_to(well_to_mix.top(20), strategy='arc')\n",
    "        \n",
    "\n",
    "def transfer_and_mix(reagent, samples):\n",
    "    for s in samples:\n",
    "\n",
    "        if not m300.tip_attached:\n",
    "            m300.pick_up_tip()\n",
    "        \n",
    "        m300.transfer(reagent['transfer_volume'], reagent['setup'], s, new_tip=reagent['new_tip'])\n",
    "        m300.set_flow_rate(aspirate=300, dispense=550)\n",
    "        m300.mix(reagent['mix_repetitions'], reagent['mix_volume'], s)  # note that according to nucleic_acid_extration.ot2.py .mix volume differs from .transfer volume\n",
    "        m300.set_flow_rate(aspirate=150, dispense=300)\n",
    "        m300.drop_tip()\n",
    "\n",
    "        \n",
    "def trash_supernatant(volume, height, samples):\n",
    "    \"\"\" function to remove [volume in ul] of supernatant from [samples], pipetting [height] units from the bottom of the well\"\"\"\n",
    "    # height to be tested, more or less reliable depending on API version\n",
    "    for s in samples:\n",
    "        m300.pick_up_tip()\n",
    "        m300.transfer(volume, s.bottom(height), m300.trash_container.top(), new_tip='never')\n",
    "        # transfer function tends to eject a small volume of air after all liquid is trashed\n",
    "        # which forms bubbles and may lead to cross contaminations (does not happen with all liquids\n",
    "        # Keep eyes peeled at this stage)\n",
    "        m300.drop_tip()\n",
    "\n",
    "        \n",
    "def text_in_a_box(line,border_char=\"#\"):\n",
    "    \"\"\" function to print some text in a box of asterisks\"\"\"\n",
    "    \n",
    "    new_text=str(line)\n",
    "    line_len = len(line)\n",
    "    new_text = \"\\n\"+border_char*(line_len+4)+\"\\n\"+border_char+\" \"+line+\" \"+border_char+\"\\n\"+border_char*(line_len+4)\n",
    "    \n",
    "    return(new_text)\n",
    "\n"
   ]
  },
  {
   "cell_type": "code",
   "execution_count": 99,
   "metadata": {},
   "outputs": [
    {
     "name": "stdout",
     "output_type": "stream",
     "text": [
      "********\n",
      "* test *\n",
      "********\n"
     ]
    }
   ],
   "source": [
    "\n",
    "    "
   ]
  },
  {
   "cell_type": "markdown",
   "metadata": {},
   "source": [
    "## Recapitulate setup"
   ]
  },
  {
   "cell_type": "code",
   "execution_count": null,
   "metadata": {},
   "outputs": [],
   "source": [
    "print(\"================================ Setup recap ================================\")"
   ]
  },
  {
   "cell_type": "markdown",
   "metadata": {},
   "source": [
    "### Instruments"
   ]
  },
  {
   "cell_type": "code",
   "execution_count": null,
   "metadata": {},
   "outputs": [],
   "source": [
    "# list of (mount, instrument)\n",
    "\n",
    "print(\"\\nRecap Instruments\")\n",
    "print(robot.get_instruments())\n"
   ]
  },
  {
   "cell_type": "markdown",
   "metadata": {},
   "source": [
    "### Containers"
   ]
  },
  {
   "cell_type": "code",
   "execution_count": null,
   "metadata": {},
   "outputs": [],
   "source": [
    "# List all containers on the deck\n",
    "\n",
    "print(\"\\nRecap containers\")\n",
    "for elt in robot.get_containers():\n",
    "    print(\"\\t\",elt.parent, elt)"
   ]
  },
  {
   "cell_type": "markdown",
   "metadata": {},
   "source": [
    "### Reagents"
   ]
  },
  {
   "cell_type": "code",
   "execution_count": null,
   "metadata": {},
   "outputs": [],
   "source": [
    "print(\"\\nRecap reagents\")\n",
    "for reagent in reagents:\n",
    "    print(\"\\t\",trough.parent, trough, reagents[reagent][\"setup\"], reagent)\n",
    "\n",
    "print(\"\\t\",ethanol_plate.parent, ethanol_plate, \"<All wells>\", \"ethanol\")\n"
   ]
  },
  {
   "cell_type": "markdown",
   "metadata": {},
   "source": [
    "### Pipettes"
   ]
  },
  {
   "cell_type": "code",
   "execution_count": null,
   "metadata": {},
   "outputs": [],
   "source": [
    "# recap attached pipettes\n",
    "print(\"\\nRecap pipette(s)\")\n",
    "for elt in robot.get_attached_pipettes():\n",
    "    print(\"\\t\", elt,robot.get_attached_pipettes()[elt])"
   ]
  },
  {
   "cell_type": "markdown",
   "metadata": {},
   "source": [
    "### Modules"
   ]
  },
  {
   "cell_type": "code",
   "execution_count": null,
   "metadata": {},
   "outputs": [],
   "source": [
    "print(\"\\nRecap modules\")\n",
    "print(\"\\tmagdeck\", magdeck.status)\n",
    "print(\"\\ttempdeck\", tempdeck.status)"
   ]
  },
  {
   "cell_type": "code",
   "execution_count": null,
   "metadata": {},
   "outputs": [],
   "source": [
    "print(\"================================= Run Start =================================\")"
   ]
  },
  {
   "cell_type": "code",
   "execution_count": null,
   "metadata": {},
   "outputs": [],
   "source": [
    "# IMPORTANT REMARKS\n",
    "\n",
    "# the API is not too robust yet as regards sanity checks\n",
    "# Consequently the robot is still a danger to itself \n",
    "# and has pronounced taste for self-destruction\n",
    "\n",
    "# never ever remove the block below\n",
    "# unless you want the robot to pipette wells located beyond plate boundaries\n",
    "# crushing all your labware\n",
    "\n",
    "# also, when using a multi-channel pipette, make sure you are ALWAYS \n",
    "# using well coordinates from first row (A1 to A12) of your 96-well plate\n",
    "# unless you want to spent countless hours re-calibrating your robot after\n",
    "# its arm collided on external walls\n",
    "\n",
    "if number_of_sample_columns > 12:\n",
    "    raise Exception(\"Please specify a valid number of sample columns.\")\n",
    "    \n",
    "\n",
    "samples = sample_plate.rows('A')[0:number_of_sample_columns]\n"
   ]
  },
  {
   "cell_type": "code",
   "execution_count": null,
   "metadata": {},
   "outputs": [],
   "source": [
    "# home\n",
    "robot.home()"
   ]
  },
  {
   "cell_type": "code",
   "execution_count": null,
   "metadata": {},
   "outputs": [],
   "source": [
    "# steps 1-2\n",
    "\n",
    "# sample collection, nothing to do here"
   ]
  },
  {
   "cell_type": "code",
   "execution_count": null,
   "metadata": {},
   "outputs": [],
   "source": [
    "# step 3\n",
    "\n",
    "robot.comment(text_in_a_box(\"step 3\"))\n",
    "# Add 240 µl of lysis buffer, seal and shake at RT at 1400 rpm for 5 min\n",
    "transfer_and_mix(reagents['lysis_buffer'], samples)\n"
   ]
  },
  {
   "cell_type": "code",
   "execution_count": null,
   "metadata": {},
   "outputs": [],
   "source": [
    "# step 4\n",
    "robot.comment(text_in_a_box(\"step 4\"))\n",
    "\n",
    "# Add 320 µl of isopropanol, seal and shake at RT at 1400 rpm for 5 min\n",
    "transfer_and_mix(reagents['isopropanol_320'], samples)\n"
   ]
  },
  {
   "cell_type": "markdown",
   "metadata": {},
   "source": [
    "### here, a function to resuspend the beads before dispensing them is needed"
   ]
  },
  {
   "cell_type": "code",
   "execution_count": 91,
   "metadata": {},
   "outputs": [],
   "source": [
    "# step 5\n",
    "robot.comment(text_in_a_box(\"step 5\"))\n",
    "\n",
    "# resuspend the beads\n",
    "well_to_mix = reagents['magnetic_beads'][\"setup\"]\n",
    "resuspend(well_to_mix)\n",
    "\n",
    "\n",
    "# Add 40 µl of silica-coated magnetic beads\n",
    "transfer_and_mix(reagents['magnetic_beads'], samples)\n"
   ]
  },
  {
   "cell_type": "code",
   "execution_count": null,
   "metadata": {},
   "outputs": [],
   "source": [
    "# step 6\n",
    "robot.comment(text_in_a_box(\"step 6\"))\n",
    "\n",
    "# Settle the magnetic beads on a magnetic stand and discard the supernatant\n",
    "# this block can probably be factorised as a function\n",
    "# considering the number of times it is used throughout the protocol\n",
    "\n",
    "robot.comment(\"Activating magdeck for 5 minutes\")\n",
    "magdeck.engage(height=15)\n",
    "\n",
    "if test_mode:\n",
    "    m300.delay(seconds=5)\n",
    "else:\n",
    "    m300.delay(minutes=5)"
   ]
  },
  {
   "cell_type": "code",
   "execution_count": null,
   "metadata": {},
   "outputs": [],
   "source": [
    "# volume & height from bottom to be adjusted based on tests\n",
    "trash_supernatant(volume=900, height=2, samples=samples)"
   ]
  },
  {
   "cell_type": "code",
   "execution_count": null,
   "metadata": {},
   "outputs": [],
   "source": [
    "# step 7\n",
    "robot.comment(text_in_a_box(\"step 7\"))\n",
    "\n",
    "#Remove the plate from the magnetic stand and add 400 µl isopropanol\n",
    "# Shake at 1400 rpm for 2 min\n",
    "magdeck.disengage()\n",
    "transfer_and_mix(reagents['isopropanol_400'], samples)\n"
   ]
  },
  {
   "cell_type": "code",
   "execution_count": null,
   "metadata": {},
   "outputs": [],
   "source": [
    "# step 8\n",
    "robot.comment(text_in_a_box(\"step 8\"))\n",
    "\n",
    "#Settle the magnetic beads on a magnetic stand and discard the supernatant\n",
    "robot.comment(\"Activating magdeck for 5 minutes\")\n",
    "magdeck.engage(height=15)\n",
    "if test_mode:\n",
    "    m300.delay(seconds=5)\n",
    "else:\n",
    "    m300.delay(minutes=5)"
   ]
  },
  {
   "cell_type": "code",
   "execution_count": null,
   "metadata": {},
   "outputs": [],
   "source": [
    "# volume & height from bottom of the well are to be adjusted based on tests\n",
    "trash_supernatant(volume=900, height=2, samples=samples)"
   ]
  },
  {
   "cell_type": "code",
   "execution_count": null,
   "metadata": {},
   "outputs": [],
   "source": [
    "# steps 9-10-11, repeated 4 times\n",
    "robot.comment(text_in_a_box(\"step 9-10-11\"))\n",
    "\n",
    "\n",
    "for rep in range(3):\n",
    "    \n",
    "    magdeck.disengage()\n",
    "    \n",
    "    for well in samples:\n",
    "        \n",
    "        if not m300.tip_attached:\n",
    "            m300.pick_up_tip()\n",
    "\n",
    "        \n",
    "        well_code = str(well).split(\" \")[-1][:-1]\n",
    "        \n",
    "        m300.transfer(400, \n",
    "                      ethanol_plate.wells(well_code).bottom(2), \n",
    "                      well, new_tip='never')\n",
    "        \n",
    "        m300.set_flow_rate(aspirate=300, dispense=550)\n",
    "        m300.mix(MIX_REPETITIONS, 300, well) \n",
    "        m300.set_flow_rate(aspirate=150, dispense=300)\n",
    "\n",
    "        m300.drop_tip()\n",
    "\n",
    "\n",
    "    robot.comment(\"Activating magdeck for 5 minutes\")\n",
    "    magdeck.engage(height=15)\n",
    "    \n",
    "    if test_mode:\n",
    "        m300.delay(seconds=5)\n",
    "    else:\n",
    "        m300.delay(minutes=5)\n",
    "    \n",
    "    # volume & height from bottom to be adjusted based on tests\n",
    "    trash_supernatant(volume=900, height=2, samples=samples)\n",
    "    \n"
   ]
  },
  {
   "cell_type": "code",
   "execution_count": null,
   "metadata": {},
   "outputs": [],
   "source": [
    "samples"
   ]
  },
  {
   "cell_type": "code",
   "execution_count": null,
   "metadata": {},
   "outputs": [],
   "source": [
    "magdeck.disengage()\n"
   ]
  },
  {
   "cell_type": "markdown",
   "metadata": {},
   "source": [
    "## kindly request human to move the plate to the temperature module"
   ]
  },
  {
   "cell_type": "code",
   "execution_count": null,
   "metadata": {},
   "outputs": [],
   "source": [
    "# step 12\n",
    "robot.comment(text_in_a_box(\"step 12\"))\n",
    "\n",
    "robot.comment(\"Please place plate on tempdeck\")\n",
    "robot.pause()"
   ]
  },
  {
   "cell_type": "code",
   "execution_count": null,
   "metadata": {},
   "outputs": [],
   "source": [
    "#tempdeck.set_temperature(50)\n",
    "\n",
    "if test_mode:\n",
    "    m300.delay(seconds=5)\n",
    "else:\n",
    "    m300.delay(minutes=10)#tempdeck.set_temperature(25)\n"
   ]
  },
  {
   "cell_type": "code",
   "execution_count": null,
   "metadata": {},
   "outputs": [],
   "source": [
    "robot.comment(\"Please place plate back on magdeck\")\n",
    "robot.pause()"
   ]
  },
  {
   "cell_type": "code",
   "execution_count": null,
   "metadata": {},
   "outputs": [],
   "source": [
    "# step 13\n",
    "robot.comment(text_in_a_box(\"step 13\"))\n",
    "\n",
    "# Remove the plate from the magnets and add 150 µl of DNase I reaction mix\n",
    "# and mix at 1300 rpm for 5 min at RT, centrifuge shortly and shake \n",
    "# at 350 rpm for 15-60 min at 37 °C\n",
    "\n",
    "if DNAse_incubation:\n",
    "    transfer_and_mix(reagents['DNaseI_reaction_mix_150'], samples)\n",
    "\n"
   ]
  },
  {
   "cell_type": "code",
   "execution_count": null,
   "metadata": {},
   "outputs": [],
   "source": [
    "# step 14\n",
    "robot.comment(text_in_a_box(\"step 14\"))\n",
    "\n",
    "#Add 600 µl RNA binding buffer to the digest and mix at 1000 rpm for 10 min\n",
    "transfer_and_mix(reagents['RNA_binding_buffer'], samples)\n",
    "\n"
   ]
  },
  {
   "cell_type": "code",
   "execution_count": null,
   "metadata": {},
   "outputs": [],
   "source": [
    "# step 15\n",
    "robot.comment(text_in_a_box(\"step 15\"))\n",
    "\n",
    "robot.comment(\"Activating magdeck for 5 minutes\")\n",
    "magdeck.engage(height=15)\n",
    "if test_mode:\n",
    "    m300.delay(seconds=5)\n",
    "else:\n",
    "    m300.delay(minutes=5)"
   ]
  },
  {
   "cell_type": "code",
   "execution_count": null,
   "metadata": {},
   "outputs": [],
   "source": [
    "   \n",
    "# volume & height from bottom to be adjusted based on tests\n",
    "trash_supernatant(volume=900, height=2, samples=samples)\n"
   ]
  },
  {
   "cell_type": "code",
   "execution_count": null,
   "metadata": {},
   "outputs": [],
   "source": [
    "# steps 16-17-18, repeated 4 times\n",
    "robot.comment(text_in_a_box(\"step 16-17-18\"))\n",
    "\n",
    "\n",
    "for rep in range(3):\n",
    "    \n",
    "    magdeck.disengage()\n",
    "    \n",
    "    for well in samples:\n",
    "        \n",
    "        if not m300.tip_attached:\n",
    "            m300.pick_up_tip()\n",
    "\n",
    "        \n",
    "        well_code = str(well).split(\" \")[-1][:-1]\n",
    "        \n",
    "        m300.transfer(400, \n",
    "                      ethanol_plate.wells(well_code).bottom(2), \n",
    "                      well, new_tip='never')\n",
    "        \n",
    "        m300.set_flow_rate(aspirate=300, dispense=550)\n",
    "        m300.mix(MIX_REPETITIONS, 300, well) \n",
    "        m300.set_flow_rate(aspirate=150, dispense=300)\n",
    "\n",
    "        m300.drop_tip()\n",
    "\n",
    "\n",
    "    robot.comment(\"Activating magdeck for 5 minutes\")\n",
    "    magdeck.engage(height=15)\n",
    "    \n",
    "    if test_mode:\n",
    "        m300.delay(seconds=5)\n",
    "    else:\n",
    "        m300.delay(minutes=5)\n",
    "    \n",
    "    # volume & height from bottom to be adjusted based on tests\n",
    "    trash_supernatant(volume=900, height=2, samples=samples)\n",
    "    \n"
   ]
  },
  {
   "cell_type": "markdown",
   "metadata": {},
   "source": [
    "## kindly request human to move the plate to the temperature module"
   ]
  },
  {
   "cell_type": "code",
   "execution_count": null,
   "metadata": {},
   "outputs": [],
   "source": [
    "# step 19\n",
    "robot.comment(text_in_a_box(\"step 19\"))\n",
    "\n",
    "robot.comment(\"Please place plate on tempdeck\")\n",
    "robot.pause()"
   ]
  },
  {
   "cell_type": "code",
   "execution_count": null,
   "metadata": {},
   "outputs": [],
   "source": [
    "\n",
    "tempdeck.set_temperature(50)\n",
    "\n",
    "if test_mode:\n",
    "    m300.delay(seconds=5)\n",
    "else:\n",
    "    m300.delay(minutes=30)\n",
    "\n",
    "tempdeck.set_temperature(25)"
   ]
  },
  {
   "cell_type": "code",
   "execution_count": null,
   "metadata": {},
   "outputs": [],
   "source": [
    "\n",
    "robot.comment(\"Please place plate back on magdeck\")\n",
    "robot.pause()"
   ]
  },
  {
   "cell_type": "code",
   "execution_count": null,
   "metadata": {},
   "outputs": [],
   "source": [
    "# step 20\n",
    "robot.comment(text_in_a_box(\"step 20\"))\n",
    "\n",
    "# Add 40 µl of nuclease-free water to elute RNA, mix at 1300 rpm for 5 min\n",
    "transfer_and_mix(reagents['nuclease_free_water'], samples)\n",
    "\n",
    "robot.comment(\"Done, at last!\")\n"
   ]
  },
  {
   "cell_type": "markdown",
   "metadata": {},
   "source": [
    "### I think I would do the last transfer manually to maximise liquid recovery while minimising the amount of beads"
   ]
  },
  {
   "cell_type": "markdown",
   "metadata": {},
   "source": [
    "## <p style=\"text-align: center;\"> The end </p>"
   ]
  }
 ],
 "metadata": {
  "kernelspec": {
   "display_name": "Python 3",
   "language": "python",
   "name": "python3"
  },
  "language_info": {
   "codemirror_mode": {
    "name": "ipython",
    "version": 3
   },
   "file_extension": ".py",
   "mimetype": "text/x-python",
   "name": "python",
   "nbconvert_exporter": "python",
   "pygments_lexer": "ipython3",
   "version": "3.7.4"
  }
 },
 "nbformat": 4,
 "nbformat_minor": 4
}
