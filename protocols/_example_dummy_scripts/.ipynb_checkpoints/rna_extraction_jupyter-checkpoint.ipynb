{
 "cells": [
  {
   "cell_type": "markdown",
   "metadata": {},
   "source": [
    "## To do list\n",
    "\n",
    "* get a list of the reagents and their concentrations and volumes\n",
    "* get a list of all the equipment"
   ]
  },
  {
   "cell_type": "markdown",
   "metadata": {},
   "source": [
    "## To run from bash command line\n",
    "\n",
    "$ opentrons_simulate rna_extraction.py"
   ]
  },
  {
   "cell_type": "markdown",
   "metadata": {},
   "source": [
    "## Resources\n",
    "\n",
    "\n",
    "following protocol from [BOMB total RNA extraction mammalian GITC v1.0.pdf](https://bomb.bio/wp-content/uploads/2018/09/8.2_BOMB_total_RNA_extraction_mammalian_GITC_V1.0.pdf)\n",
    "\n",
    "\n",
    "Snippets taken from nucleic_acid_extraction.ot2.py [see here](https://protocol-delivery.protocols.opentrons.com/protocol/1584)\n"
   ]
  },
  {
   "cell_type": "code",
   "execution_count": 1,
   "metadata": {},
   "outputs": [],
   "source": [
    "metadata = {\n",
    "    'protocolName': 'RNA Extraction v0.2',\n",
    "    'author': 'Neil MacKenzie, Eyal Kazin <eyalkazin@gmail.com>, Aubin Fleiss <afleiss@ic.ac.uk>',\n",
    "    'source': 'Testing' #'Custom Protocol Request'\n",
    "}\n"
   ]
  },
  {
   "cell_type": "code",
   "execution_count": 2,
   "metadata": {},
   "outputs": [
    {
     "name": "stdout",
     "output_type": "stream",
     "text": [
      "Requirement already satisfied: opentrons in /home/afleiss@cscdom.csc.mrc.ac.uk/anaconda3/lib/python3.7/site-packages (3.16.1)\n",
      "Requirement already satisfied: urwid==1.3.1 in /home/afleiss@cscdom.csc.mrc.ac.uk/anaconda3/lib/python3.7/site-packages (from opentrons) (1.3.1)\n",
      "Requirement already satisfied: numpy>=1.15.1 in /home/afleiss@cscdom.csc.mrc.ac.uk/anaconda3/lib/python3.7/site-packages (from opentrons) (1.18.1)\n",
      "Requirement already satisfied: jsonschema<4,>=3.0.2 in /home/afleiss@cscdom.csc.mrc.ac.uk/anaconda3/lib/python3.7/site-packages (from opentrons) (3.2.0)\n",
      "Requirement already satisfied: aionotify==0.2.0 in /home/afleiss@cscdom.csc.mrc.ac.uk/anaconda3/lib/python3.7/site-packages (from opentrons) (0.2.0)\n",
      "Requirement already satisfied: pyserial==3.4 in /home/afleiss@cscdom.csc.mrc.ac.uk/anaconda3/lib/python3.7/site-packages (from opentrons) (3.4)\n",
      "Requirement already satisfied: aiohttp==3.4.4 in /home/afleiss@cscdom.csc.mrc.ac.uk/anaconda3/lib/python3.7/site-packages (from opentrons) (3.4.4)\n",
      "Requirement already satisfied: attrs>=17.4.0 in /home/afleiss@cscdom.csc.mrc.ac.uk/anaconda3/lib/python3.7/site-packages (from jsonschema<4,>=3.0.2->opentrons) (19.3.0)\n",
      "Requirement already satisfied: six>=1.11.0 in /home/afleiss@cscdom.csc.mrc.ac.uk/anaconda3/lib/python3.7/site-packages (from jsonschema<4,>=3.0.2->opentrons) (1.14.0)\n",
      "Requirement already satisfied: setuptools in /home/afleiss@cscdom.csc.mrc.ac.uk/anaconda3/lib/python3.7/site-packages (from jsonschema<4,>=3.0.2->opentrons) (45.2.0.post20200210)\n",
      "Requirement already satisfied: pyrsistent>=0.14.0 in /home/afleiss@cscdom.csc.mrc.ac.uk/anaconda3/lib/python3.7/site-packages (from jsonschema<4,>=3.0.2->opentrons) (0.15.7)\n",
      "Requirement already satisfied: importlib-metadata; python_version < \"3.8\" in /home/afleiss@cscdom.csc.mrc.ac.uk/anaconda3/lib/python3.7/site-packages (from jsonschema<4,>=3.0.2->opentrons) (1.5.0)\n",
      "Requirement already satisfied: yarl<2.0,>=1.0 in /home/afleiss@cscdom.csc.mrc.ac.uk/anaconda3/lib/python3.7/site-packages (from aiohttp==3.4.4->opentrons) (1.4.2)\n",
      "Requirement already satisfied: multidict<5.0,>=4.0 in /home/afleiss@cscdom.csc.mrc.ac.uk/anaconda3/lib/python3.7/site-packages (from aiohttp==3.4.4->opentrons) (4.7.5)\n",
      "Requirement already satisfied: chardet<4.0,>=2.0 in /home/afleiss@cscdom.csc.mrc.ac.uk/anaconda3/lib/python3.7/site-packages (from aiohttp==3.4.4->opentrons) (3.0.4)\n",
      "Requirement already satisfied: async-timeout<4.0,>=3.0 in /home/afleiss@cscdom.csc.mrc.ac.uk/anaconda3/lib/python3.7/site-packages (from aiohttp==3.4.4->opentrons) (3.0.1)\n",
      "Requirement already satisfied: zipp>=0.5 in /home/afleiss@cscdom.csc.mrc.ac.uk/anaconda3/lib/python3.7/site-packages (from importlib-metadata; python_version < \"3.8\"->jsonschema<4,>=3.0.2->opentrons) (2.2.0)\n",
      "Requirement already satisfied: idna>=2.0 in /home/afleiss@cscdom.csc.mrc.ac.uk/anaconda3/lib/python3.7/site-packages (from yarl<2.0,>=1.0->aiohttp==3.4.4->opentrons) (2.8)\n"
     ]
    }
   ],
   "source": [
    "# intalling opentrons module (only once)\n",
    "import sys\n",
    "!{sys.executable} -m pip install opentrons"
   ]
  },
  {
   "cell_type": "code",
   "execution_count": 3,
   "metadata": {},
   "outputs": [
    {
     "name": "stdout",
     "output_type": "stream",
     "text": [
      "Requirement already up-to-date: opentrons in /home/afleiss@cscdom.csc.mrc.ac.uk/anaconda3/lib/python3.7/site-packages (3.16.1)\n",
      "Requirement already satisfied, skipping upgrade: aiohttp==3.4.4 in /home/afleiss@cscdom.csc.mrc.ac.uk/anaconda3/lib/python3.7/site-packages (from opentrons) (3.4.4)\n",
      "Requirement already satisfied, skipping upgrade: urwid==1.3.1 in /home/afleiss@cscdom.csc.mrc.ac.uk/anaconda3/lib/python3.7/site-packages (from opentrons) (1.3.1)\n",
      "Requirement already satisfied, skipping upgrade: jsonschema<4,>=3.0.2 in /home/afleiss@cscdom.csc.mrc.ac.uk/anaconda3/lib/python3.7/site-packages (from opentrons) (3.2.0)\n",
      "Requirement already satisfied, skipping upgrade: pyserial==3.4 in /home/afleiss@cscdom.csc.mrc.ac.uk/anaconda3/lib/python3.7/site-packages (from opentrons) (3.4)\n",
      "Requirement already satisfied, skipping upgrade: aionotify==0.2.0 in /home/afleiss@cscdom.csc.mrc.ac.uk/anaconda3/lib/python3.7/site-packages (from opentrons) (0.2.0)\n",
      "Requirement already satisfied, skipping upgrade: numpy>=1.15.1 in /home/afleiss@cscdom.csc.mrc.ac.uk/anaconda3/lib/python3.7/site-packages (from opentrons) (1.18.1)\n",
      "Requirement already satisfied, skipping upgrade: async-timeout<4.0,>=3.0 in /home/afleiss@cscdom.csc.mrc.ac.uk/anaconda3/lib/python3.7/site-packages (from aiohttp==3.4.4->opentrons) (3.0.1)\n",
      "Requirement already satisfied, skipping upgrade: yarl<2.0,>=1.0 in /home/afleiss@cscdom.csc.mrc.ac.uk/anaconda3/lib/python3.7/site-packages (from aiohttp==3.4.4->opentrons) (1.4.2)\n",
      "Requirement already satisfied, skipping upgrade: multidict<5.0,>=4.0 in /home/afleiss@cscdom.csc.mrc.ac.uk/anaconda3/lib/python3.7/site-packages (from aiohttp==3.4.4->opentrons) (4.7.5)\n",
      "Requirement already satisfied, skipping upgrade: attrs>=17.3.0 in /home/afleiss@cscdom.csc.mrc.ac.uk/anaconda3/lib/python3.7/site-packages (from aiohttp==3.4.4->opentrons) (19.3.0)\n",
      "Requirement already satisfied, skipping upgrade: chardet<4.0,>=2.0 in /home/afleiss@cscdom.csc.mrc.ac.uk/anaconda3/lib/python3.7/site-packages (from aiohttp==3.4.4->opentrons) (3.0.4)\n",
      "Requirement already satisfied, skipping upgrade: setuptools in /home/afleiss@cscdom.csc.mrc.ac.uk/anaconda3/lib/python3.7/site-packages (from jsonschema<4,>=3.0.2->opentrons) (45.2.0.post20200210)\n",
      "Requirement already satisfied, skipping upgrade: pyrsistent>=0.14.0 in /home/afleiss@cscdom.csc.mrc.ac.uk/anaconda3/lib/python3.7/site-packages (from jsonschema<4,>=3.0.2->opentrons) (0.15.7)\n",
      "Requirement already satisfied, skipping upgrade: six>=1.11.0 in /home/afleiss@cscdom.csc.mrc.ac.uk/anaconda3/lib/python3.7/site-packages (from jsonschema<4,>=3.0.2->opentrons) (1.14.0)\n",
      "Requirement already satisfied, skipping upgrade: importlib-metadata; python_version < \"3.8\" in /home/afleiss@cscdom.csc.mrc.ac.uk/anaconda3/lib/python3.7/site-packages (from jsonschema<4,>=3.0.2->opentrons) (1.5.0)\n",
      "Requirement already satisfied, skipping upgrade: idna>=2.0 in /home/afleiss@cscdom.csc.mrc.ac.uk/anaconda3/lib/python3.7/site-packages (from yarl<2.0,>=1.0->aiohttp==3.4.4->opentrons) (2.8)\n",
      "Requirement already satisfied, skipping upgrade: zipp>=0.5 in /home/afleiss@cscdom.csc.mrc.ac.uk/anaconda3/lib/python3.7/site-packages (from importlib-metadata; python_version < \"3.8\"->jsonschema<4,>=3.0.2->opentrons) (2.2.0)\n"
     ]
    }
   ],
   "source": [
    "# updating opentrons module (not really needed)\n",
    "import sys\n",
    "!{sys.executable} -m pip install --upgrade opentrons"
   ]
  },
  {
   "cell_type": "code",
   "execution_count": 4,
   "metadata": {},
   "outputs": [
    {
     "name": "stderr",
     "output_type": "stream",
     "text": [
      "/home/afleiss@cscdom.csc.mrc.ac.uk/.opentrons/deck_calibration.json not found. Loading defaults\n",
      "/home/afleiss@cscdom.csc.mrc.ac.uk/.opentrons/robot_settings.json not found. Loading defaults\n"
     ]
    },
    {
     "name": "stdout",
     "output_type": "stream",
     "text": [
      "Loading json containers...\n",
      "Json container file load complete, listing database\n",
      "Found 0 containers to add. Starting migration...\n",
      "Database migration complete!\n"
     ]
    }
   ],
   "source": [
    "# import standard modules\n",
    "from collections import OrderedDict\n",
    "from opentrons import labware, instruments, modules, robot\n"
   ]
  },
  {
   "cell_type": "markdown",
   "metadata": {},
   "source": [
    "## To do list\n",
    "\n",
    "* figure out how to get LYSIS_BUFFER_NEWTIP='never' to work!\n",
    "* figure out how to tell machine to stop, remember where it is and to continue after command\n"
   ]
  },
  {
   "cell_type": "markdown",
   "metadata": {},
   "source": [
    "\n",
    "## Comments\n",
    "* transfer_volume is in μl\n",
    "* new_tip options: 'always', 'never', 'once'\n"
   ]
  },
  {
   "cell_type": "code",
   "execution_count": 5,
   "metadata": {},
   "outputs": [
    {
     "name": "stdout",
     "output_type": "stream",
     "text": [
      "--------------------------------------------------\n",
      "Make sure the `tips` make sense!\n",
      "[<Deck><Slot 5><Container opentrons-tiprack-300ul>, <Deck><Slot 6><Container opentrons-tiprack-300ul>, <Deck><Slot 7><Container opentrons-tiprack-300ul>, <Deck><Slot 8><Container opentrons-tiprack-300ul>, <Deck><Slot 9><Container opentrons-tiprack-300ul>]\n",
      "--------------------------------------------------\n"
     ]
    }
   ],
   "source": [
    "\n",
    "# create custom labware\n",
    "plate_name = 'MidSci-96-Well'\n",
    "if plate_name not in labware.list():\n",
    "    labware.create(\n",
    "        plate_name,\n",
    "        grid=(12, 8),\n",
    "        spacing=(9, 9),\n",
    "        diameter=5,\n",
    "        depth=21,\n",
    "        volume=200\n",
    "    )\n",
    "\n",
    "# labware\n",
    "trough = labware.load('trough-12row', '2', 'trough')\n",
    "fresh_plate = labware.load(plate_name, '3', 'fresh plate')\n",
    "\n",
    "tips = [labware.load('opentrons-tiprack-300ul', str(slot)) for slot in range(5, 10)]\n",
    "print('-' * 50)\n",
    "print('Make sure the `tips` make sense!')\n",
    "print(tips)\n",
    "print('-' * 50)\n",
    "\n",
    "# modules\n",
    "magdeck = modules.load('magdeck', '1')\n",
    "sample_plate = labware.load(plate_name, '1', share=True)\n",
    "\n",
    "tempdeck = modules.load('tempdeck', '4')\n",
    "tempdeck.set_temperature(25)\n",
    "\n",
    "\n",
    "# instruments\n",
    "m300 = instruments.P300_Multi(mount='right', tip_racks=tips)\n",
    "\n"
   ]
  },
  {
   "cell_type": "code",
   "execution_count": 6,
   "metadata": {},
   "outputs": [],
   "source": [
    "\n",
    "NEW_TIP = 'never'\n",
    "MIX_REPETITIONS = 15\n",
    "\n",
    "reagents = OrderedDict()\n",
    "# Add 240 μl of lysis buffer, seal and shake at RT at 1400 rpm for 5 min\n",
    "reagents['lysis_buffer'] = {'well': 'A1', \n",
    "                            'transfer_volume': 240, \n",
    "                            'mix_volume': 240, \n",
    "                            'mix_repetitions': MIX_REPETITIONS,\n",
    "                            'new_tip': NEW_TIP}\n",
    "\n",
    "# Add 320 μl of isopropanol, seal and shake at RT at 1400 rpm for 5 min\n",
    "reagents['isopropanol_320'] = {'well': 'A2', \n",
    "                               'transfer_volume': 300, \n",
    "                               'mix_volume': 300, \n",
    "                               'mix_repetitions': MIX_REPETITIONS,\n",
    "                               'new_tip': NEW_TIP}\n",
    "\n",
    "# Add 40 μl of silica-coated magnetic beads (BOMB protocol #2.1, 1:10 diluted from stock), seal and shake at RT at 1400 rpm for 5 min\n",
    "reagents['magnetic_beads'] = {'well': 'A3', \n",
    "                              'transfer_volume': 40, \n",
    "                              'mix_volume': 40, \n",
    "                              'mix_repetitions': MIX_REPETITIONS,\n",
    "                              'new_tip': NEW_TIP}\n",
    "\n",
    "# Remove the plate from the magnetic stand and add 400 μl isopropanol. Shake at RT at 1400 rpm for 2 min\n",
    "reagents['isopropanol_400'] = {'well': 'A2', \n",
    "                               'transfer_volume': 300, \n",
    "                               'mix_volume': 300, \n",
    "                               'mix_repetitions': MIX_REPETITIONS,\n",
    "                               'new_tip': NEW_TIP}\n",
    "\n"
   ]
  },
  {
   "cell_type": "code",
   "execution_count": 7,
   "metadata": {},
   "outputs": [],
   "source": [
    "# reagent setup\n",
    "\n",
    "for reagent_name in reagents:\n",
    "    reagents[reagent_name]['setup'] = trough.wells('A1')\n",
    "\n",
    "\n",
    "#lysis_buffer = trough.wells('A1')\n",
    "# isopropanol = trough.wells('A2')\n",
    "# magnetic_bead = trough.wells('A3')   # e.g, silica-coated magnetic beads (BOMB protocol #2.1, 1:10 diluted from stock)\n",
    "# ethanol_80percent = trough.wells('A4')\n",
    "# dnaseI_reaction_mix = trough.wells('A5')  # enzyme that removes DNA\n",
    "# rna_binding_buffer = trough.wells('A6')\n",
    "# nuclease_free_water = trough.wells('A7')\n",
    "# liquid_waste = trough.wells('A12')  #  elusion waste\n"
   ]
  },
  {
   "cell_type": "markdown",
   "metadata": {},
   "source": []
  },
  {
   "cell_type": "code",
   "execution_count": 8,
   "metadata": {},
   "outputs": [],
   "source": [
    "\n",
    "def transfer_and_mix(reagent, samples):\n",
    "    for s in samples:\n",
    "        m300.pick_up_tip()\n",
    "        m300.transfer(reagent['transfer_volume'], reagent['setup'], s, new_tip=reagent['new_tip'])\n",
    "        m300.mix(reagent['mix_repetitions'], reagent['mix_volume'], s)  # note that according to nucleic_acid_extration.ot2.py .mix volume differs from .transfer volume\n",
    "        m300.drop_tip()\n",
    "\n",
    "        \n",
    "def trash_supernatant(volume, height, samples):\n",
    "    for s in samples:\n",
    "        m300.pick_up_tip()\n",
    "        m300.transfer(volume, s.bottom(height), m300.trash_container.top(), new_tip='never')\n",
    "        # transfer function tends to eject a small volume of air after all liquid is trashed\n",
    "        # which forms bubbles and may lead to cross contaminations (does not happen with all liquids\n",
    "        # Keep eyes peeled at this stage)\n",
    "        m300.drop_tip()\n"
   ]
  },
  {
   "cell_type": "code",
   "execution_count": 9,
   "metadata": {},
   "outputs": [],
   "source": [
    "# def run_custom_protocol(number_of_sample_columns: int = 12):\n",
    "#run_custom_protocol(**{'number_of_sample_columns': 2})\n",
    "\n",
    "# I like having a main function running the whole protocol\n",
    "# but it is much more difficult to test each instruction individually\n",
    "\n",
    "# I will split each line of the protocol into different cells for now\n",
    "\n",
    "\n"
   ]
  },
  {
   "cell_type": "code",
   "execution_count": 10,
   "metadata": {},
   "outputs": [],
   "source": [
    "number_of_sample_columns=1\n"
   ]
  },
  {
   "cell_type": "code",
   "execution_count": 13,
   "metadata": {},
   "outputs": [],
   "source": [
    "if number_of_sample_columns > 12:\n",
    "    raise Exception(\"Please specify a valid number of sample columns.\")\n",
    "    \n",
    "\n",
    "samples = sample_plate.rows('A')[0:number_of_sample_columns]\n"
   ]
  },
  {
   "cell_type": "code",
   "execution_count": 14,
   "metadata": {},
   "outputs": [],
   "source": [
    "# Add 240 µl of lysis buffer, seal and shake at RT at 1400 rpm for 5 min\n",
    "transfer_and_mix(reagents['lysis_buffer'], samples)\n"
   ]
  },
  {
   "cell_type": "code",
   "execution_count": 15,
   "metadata": {},
   "outputs": [],
   "source": [
    "\n",
    "# --- OpenTron does not have Seal and Shake modules ---\n",
    "# figure out how to tell machine to stop, remember where it is and to continue after command\n",
    "# transfer and mix isopropanol\n"
   ]
  },
  {
   "cell_type": "code",
   "execution_count": 16,
   "metadata": {},
   "outputs": [],
   "source": [
    "# Add 320 µl of isopropanol, seal and shake at RT at 1400 rpm for 5 min\n",
    "transfer_and_mix(reagents['isopropanol_320'], samples)\n"
   ]
  },
  {
   "cell_type": "code",
   "execution_count": 17,
   "metadata": {},
   "outputs": [],
   "source": [
    "# Add 40 µl of silica-coated magnetic beads\n",
    "transfer_and_mix(reagents['magnetic_beads'], samples)\n"
   ]
  },
  {
   "cell_type": "code",
   "execution_count": 18,
   "metadata": {},
   "outputs": [
    {
     "data": {
      "text/plain": [
       "<opentrons.legacy_api.instruments.pipette.Pipette at 0x7f4214485150>"
      ]
     },
     "execution_count": 18,
     "metadata": {},
     "output_type": "execute_result"
    }
   ],
   "source": [
    "#Settle the magnetic beads on a magnetic stand and discard the supernatant\n",
    "robot.comment(\"Activating magdeck for 5 minutes\")\n",
    "magdeck.engage(height=15)\n",
    "m300.delay(minutes=5)# may need to increase to let the beads settle"
   ]
  },
  {
   "cell_type": "code",
   "execution_count": 19,
   "metadata": {},
   "outputs": [],
   "source": [
    "# volume & height from bottom to be adjusted based on tests\n",
    "trash_supernatant(volume=900, height=2, samples=samples)"
   ]
  },
  {
   "cell_type": "code",
   "execution_count": 20,
   "metadata": {},
   "outputs": [],
   "source": [
    "#Remove the plate from the magnetic stand and add 400 µl isopropanol\n",
    "# Shake at 1400 rpm for 2 min\n",
    "magdeck.disengage()\n",
    "transfer_and_mix(reagents['isopropanol_400'], samples)\n"
   ]
  },
  {
   "cell_type": "code",
   "execution_count": 21,
   "metadata": {},
   "outputs": [
    {
     "data": {
      "text/plain": [
       "<opentrons.legacy_api.instruments.pipette.Pipette at 0x7f4214485150>"
      ]
     },
     "execution_count": 21,
     "metadata": {},
     "output_type": "execute_result"
    }
   ],
   "source": [
    "#Settle the magnetic beads on a magnetic stand and discard the supernatant\n",
    "robot.comment(\"Activating magdeck for 5 minutes\")\n",
    "magdeck.engage(height=15)\n",
    "m300.delay(minutes=5)# may need to increase to let the beads settle"
   ]
  },
  {
   "cell_type": "code",
   "execution_count": 22,
   "metadata": {},
   "outputs": [],
   "source": [
    "# volume & height from bottom to be adjusted based on tests\n",
    "trash_supernatant(volume=900, height=2, samples=samples)"
   ]
  },
  {
   "cell_type": "code",
   "execution_count": 23,
   "metadata": {},
   "outputs": [],
   "source": [
    "for rep in range(3):\n",
    "    \n",
    "    magdeck.disengage()\n",
    "    \n",
    "    transfer_and_mix(reagents['isopropanol_400'], samples)\n",
    "    \n",
    "    #Settle the magnetic beads on a magnetic stand and discard the supernatant\n",
    "    robot.comment(\"Activating magdeck for 5 minutes\")\n",
    "    magdeck.engage(height=15)\n",
    "    m300.delay(minutes=5)# may need to increase to let the beads settle\n",
    "    \n",
    "    # volume & height from bottom to be adjusted based on tests\n",
    "    trash_supernatant(volume=900, height=2, samples=samples)\n",
    "    \n",
    "magdeck.disengage()\n"
   ]
  },
  {
   "cell_type": "markdown",
   "metadata": {},
   "source": [
    "## kindly request human to move the plate to the temperature module"
   ]
  },
  {
   "cell_type": "code",
   "execution_count": 24,
   "metadata": {},
   "outputs": [],
   "source": [
    "robot.comment(\"Please place plate on tempdeck\")\n"
   ]
  },
  {
   "cell_type": "code",
   "execution_count": 27,
   "metadata": {},
   "outputs": [],
   "source": [
    "tempdeck.set_temperature(50)\n",
    "m300.delay(minutes=10) # may need to adjust to let the beads dry\n",
    "tempdeck.set_temperature(25)\n"
   ]
  },
  {
   "cell_type": "code",
   "execution_count": 28,
   "metadata": {},
   "outputs": [],
   "source": [
    "# Remove the plate from the magnets and add 150 µl of DNase I reaction mix\n",
    "# and mix at 1300 rpm for 5 min at RT, centrifuge shortly and shake \n",
    "# at 350 rpm for 15-60 min at 37 °C\n"
   ]
  },
  {
   "cell_type": "code",
   "execution_count": null,
   "metadata": {},
   "outputs": [],
   "source": []
  }
 ],
 "metadata": {
  "kernelspec": {
   "display_name": "Python 3",
   "language": "python",
   "name": "python3"
  },
  "language_info": {
   "codemirror_mode": {
    "name": "ipython",
    "version": 3
   },
   "file_extension": ".py",
   "mimetype": "text/x-python",
   "name": "python",
   "nbconvert_exporter": "python",
   "pygments_lexer": "ipython3",
   "version": "3.7.4"
  }
 },
 "nbformat": 4,
 "nbformat_minor": 4
}
